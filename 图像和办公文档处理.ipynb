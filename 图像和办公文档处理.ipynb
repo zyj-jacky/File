{
 "cells": [
  {
   "cell_type": "code",
   "execution_count": 9,
   "metadata": {},
   "outputs": [],
   "source": [
    "from PIL import Image\n",
    "image = Image.open('guido.jpg')\n",
    "image.format, image.size, image.mode\n",
    "('JPEG', (500, 750), 'RGB')\n",
    "image.show()"
   ]
  },
  {
   "cell_type": "markdown",
   "metadata": {},
   "source": [
    "# 剪裁图像"
   ]
  },
  {
   "cell_type": "code",
   "execution_count": 12,
   "metadata": {},
   "outputs": [],
   "source": [
    "image = Image.open('guido.jpg')\n",
    "rect = 80, 20, 250, 300\n",
    "image.crop(rect).show()"
   ]
  },
  {
   "cell_type": "markdown",
   "metadata": {},
   "source": [
    "# 生成缩略图"
   ]
  },
  {
   "cell_type": "code",
   "execution_count": 13,
   "metadata": {},
   "outputs": [],
   "source": [
    "image = Image.open('guido.jpg')\n",
    "size = 128, 128\n",
    "image.thumbnail(size)\n",
    "image.show()"
   ]
  },
  {
   "cell_type": "markdown",
   "metadata": {},
   "source": [
    "# 缩放和黏贴图像"
   ]
  },
  {
   "cell_type": "code",
   "execution_count": 40,
   "metadata": {},
   "outputs": [],
   "source": [
    "image1 = Image.open('zyj.png')#运行问题\n",
    "image2 = Image.open('guido.jpg')\n",
    "\n",
    "rect = 80, 20, 250, 300\n",
    "guido_head = image2.crop(rect)\n",
    "width, height = guido_head.size\n",
    "image1.paste(guido_head.resize((int(width / 1.5), int(height / 1.5))), (172, 40))"
   ]
  },
  {
   "cell_type": "markdown",
   "metadata": {},
   "source": [
    "# 旋转和翻转"
   ]
  },
  {
   "cell_type": "code",
   "execution_count": 18,
   "metadata": {},
   "outputs": [],
   "source": [
    "image = Image.open('guido.jpg')\n",
    "image.rotate(180).show()\n",
    "image.transpose(Image.FLIP_LEFT_RIGHT).show()"
   ]
  },
  {
   "cell_type": "markdown",
   "metadata": {},
   "source": [
    "# 操作像素"
   ]
  },
  {
   "cell_type": "code",
   "execution_count": 27,
   "metadata": {},
   "outputs": [],
   "source": [
    "image = Image.open('guido.jpg')\n",
    "for x in range(80, 310):\n",
    "    for y in range(20, 360):\n",
    "        image.putpixel((x, y), (128, 128, 128))\n",
    "image.show()"
   ]
  },
  {
   "cell_type": "markdown",
   "metadata": {},
   "source": [
    "# 滤镜效果"
   ]
  },
  {
   "cell_type": "code",
   "execution_count": 28,
   "metadata": {},
   "outputs": [],
   "source": [
    "from PIL import Image, ImageFilter\n",
    "\n",
    "image = Image.open('guido.jpg')\n",
    "image.filter(ImageFilter.CONTOUR).show()"
   ]
  },
  {
   "cell_type": "code",
   "execution_count": null,
   "metadata": {},
   "outputs": [],
   "source": [
    "\"\"\"\n",
    "使用pillow操作图像\n",
    "\"\"\"\n",
    "from PIL import Image\n",
    "\n",
    "img = Image.open('./res/guido.jpg')\n",
    "print(img.size)\n",
    "print(img.format)\n",
    "print(img.format_description)\n",
    "img.save('./res/guido.png')\n",
    "\n",
    "img2 = Image.open('./res/guido.png')\n",
    "img3 = img2.crop((335, 435, 430, 615))\n",
    "for x in range(4):\n",
    "    for y in range(5):\n",
    "        img2.paste(img3, (95 * y , 180 * x))\n",
    "img2.resize((img.size[0] // 2, img.size[1] // 2))\n",
    "img2.rotate(90)\n",
    "img2.save('./res/guido2.png')"
   ]
  },
  {
   "cell_type": "code",
   "execution_count": null,
   "metadata": {},
   "outputs": [],
   "source": [
    "\"\"\"\n",
    "创建Excel文件\n",
    "\"\"\"\n",
    "from openpyxl import Workbook\n",
    "from openpyxl.worksheet.table import Table, TableStyleInfo\n",
    "\n",
    "workbook = Workbook()\n",
    "sheet = workbook.active\n",
    "data = [\n",
    "    [1001, '白元芳', '男', '13123456789'],\n",
    "    [1002, '白洁', '女', '13233445566']\n",
    "]\n",
    "sheet.append(['学号', '姓名', '性别', '电话'])\n",
    "for row in data:\n",
    "    sheet.append(row)\n",
    "tab = Table(displayName=\"Table1\", ref=\"A1:E5\")\n",
    "\n",
    "tab.tableStyleInfo = TableStyleInfo(\n",
    "    name=\"TableStyleMedium9\", showFirstColumn=False,\n",
    "    showLastColumn=False, showRowStripes=True, showColumnStripes=True)\n",
    "sheet.add_table(tab)\n",
    "workbook.save('./res/全班学生数据.xlsx')"
   ]
  },
  {
   "cell_type": "code",
   "execution_count": null,
   "metadata": {},
   "outputs": [],
   "source": [
    "\"\"\"\n",
    "读取Excel文件\n",
    "\"\"\"\n",
    "\n",
    "from openpyxl import load_workbook\n",
    "from openpyxl import Workbook\n",
    "\n",
    "workbook = load_workbook('./res/学生明细表.xlsx')\n",
    "print(workbook.sheetnames)\n",
    "sheet = workbook[workbook.sheetnames[0]]\n",
    "print(sheet.title)\n",
    "for row in range(2, 7):\n",
    "    for col in range(65, 70):\n",
    "        cell_index = chr(col) + str(row)\n",
    "        print(sheet[cell_index].value, end='\\t')\n",
    "    print()\n"
   ]
  },
  {
   "cell_type": "code",
   "execution_count": 46,
   "metadata": {},
   "outputs": [],
   "source": [
    "#创建pdf文件\n",
    "from reportlab.graphics.shapes import Drawing, String\n",
    "from reportlab.graphics import renderPDF\n",
    "\n",
    "d = Drawing(200, 200)\n",
    "s = String(50, 50, 'victor is a good man', textAncher='middle')\n",
    "\n",
    "d.add(s)\n",
    "renderPDF.drawToFile(d, 'victor.pdf', 'simple pdf')"
   ]
  },
  {
   "cell_type": "code",
   "execution_count": 55,
   "metadata": {},
   "outputs": [
    {
     "ename": "FileNotFoundError",
     "evalue": "[Errno 2] No such file or directory: '张跃杰-17797756555-应聘Python开发类职位'",
     "output_type": "error",
     "traceback": [
      "\u001b[1;31m---------------------------------------------------------------------------\u001b[0m",
      "\u001b[1;31mFileNotFoundError\u001b[0m                         Traceback (most recent call last)",
      "\u001b[1;32m<ipython-input-55-cdd33793d633>\u001b[0m in \u001b[0;36m<module>\u001b[1;34m\u001b[0m\n\u001b[0;32m      5\u001b[0m \u001b[1;32mfrom\u001b[0m \u001b[0mPyPDF2\u001b[0m \u001b[1;32mimport\u001b[0m \u001b[0mPdfFileReader\u001b[0m\u001b[1;33m\u001b[0m\u001b[1;33m\u001b[0m\u001b[0m\n\u001b[0;32m      6\u001b[0m \u001b[1;33m\u001b[0m\u001b[0m\n\u001b[1;32m----> 7\u001b[1;33m \u001b[1;32mwith\u001b[0m \u001b[0mopen\u001b[0m\u001b[1;33m(\u001b[0m\u001b[1;34m'张跃杰-17797756555-应聘Python开发类职位'\u001b[0m\u001b[1;33m,\u001b[0m \u001b[1;34m'rb'\u001b[0m\u001b[1;33m)\u001b[0m \u001b[1;32mas\u001b[0m \u001b[0mf\u001b[0m\u001b[1;33m:\u001b[0m\u001b[1;33m\u001b[0m\u001b[1;33m\u001b[0m\u001b[0m\n\u001b[0m\u001b[0;32m      8\u001b[0m     \u001b[0mreader\u001b[0m \u001b[1;33m=\u001b[0m \u001b[0mPdfFileReader\u001b[0m\u001b[1;33m(\u001b[0m\u001b[0mf\u001b[0m\u001b[1;33m,\u001b[0m \u001b[0mstrict\u001b[0m\u001b[1;33m=\u001b[0m\u001b[1;32mFalse\u001b[0m\u001b[1;33m)\u001b[0m\u001b[1;33m\u001b[0m\u001b[1;33m\u001b[0m\u001b[0m\n\u001b[0;32m      9\u001b[0m     \u001b[0mprint\u001b[0m\u001b[1;33m(\u001b[0m\u001b[0mreader\u001b[0m\u001b[1;33m.\u001b[0m\u001b[0mnumPages\u001b[0m\u001b[1;33m)\u001b[0m\u001b[1;33m\u001b[0m\u001b[1;33m\u001b[0m\u001b[0m\n",
      "\u001b[1;31mFileNotFoundError\u001b[0m: [Errno 2] No such file or directory: '张跃杰-17797756555-应聘Python开发类职位'"
     ]
    }
   ],
   "source": [
    "\"\"\"\n",
    "读取PDF文件\n",
    "\"\"\"\n",
    "\n",
    "from PyPDF2 import PdfFileReader\n",
    "\n",
    "with open('张跃杰-17797756555-应聘Python开发类职位', 'rb') as f:\n",
    "    reader = PdfFileReader(f, strict=False)\n",
    "    print(reader.numPages)\n",
    "    if reader.isEncrypted:\n",
    "        reader.decrypt('')\n",
    "    current_page = reader.getPage(5)\n",
    "    print(current_page)\n",
    "    print(current_page.extractText())"
   ]
  },
  {
   "cell_type": "code",
   "execution_count": null,
   "metadata": {},
   "outputs": [],
   "source": [
    "创建word文件"
   ]
  },
  {
   "cell_type": "code",
   "execution_count": 51,
   "metadata": {},
   "outputs": [
    {
     "ename": "ModuleNotFoundError",
     "evalue": "No module named 'exceptions'",
     "output_type": "error",
     "traceback": [
      "\u001b[1;31m---------------------------------------------------------------------------\u001b[0m",
      "\u001b[1;31mModuleNotFoundError\u001b[0m                       Traceback (most recent call last)",
      "\u001b[1;32m<ipython-input-51-db1930ca5000>\u001b[0m in \u001b[0;36m<module>\u001b[1;34m\u001b[0m\n\u001b[0;32m      3\u001b[0m \"\"\"\n\u001b[0;32m      4\u001b[0m \u001b[1;33m\u001b[0m\u001b[0m\n\u001b[1;32m----> 5\u001b[1;33m \u001b[1;32mfrom\u001b[0m \u001b[0mdocx\u001b[0m \u001b[1;32mimport\u001b[0m \u001b[0mDocument\u001b[0m\u001b[1;33m\u001b[0m\u001b[1;33m\u001b[0m\u001b[0m\n\u001b[0m\u001b[0;32m      6\u001b[0m \u001b[1;33m\u001b[0m\u001b[0m\n\u001b[0;32m      7\u001b[0m \u001b[0mdoc\u001b[0m \u001b[1;33m=\u001b[0m \u001b[0mDocument\u001b[0m\u001b[1;33m(\u001b[0m\u001b[1;34m'./res/用函数还是用复杂的表达式.docx'\u001b[0m\u001b[1;33m)\u001b[0m\u001b[1;33m\u001b[0m\u001b[1;33m\u001b[0m\u001b[0m\n",
      "\u001b[1;32mF:\\Anaconda\\lib\\site-packages\\docx.py\u001b[0m in \u001b[0;36m<module>\u001b[1;34m\u001b[0m\n\u001b[0;32m     28\u001b[0m     \u001b[0mTAGS\u001b[0m \u001b[1;33m=\u001b[0m \u001b[1;33m{\u001b[0m\u001b[1;33m}\u001b[0m\u001b[1;33m\u001b[0m\u001b[1;33m\u001b[0m\u001b[0m\n\u001b[0;32m     29\u001b[0m \u001b[1;33m\u001b[0m\u001b[0m\n\u001b[1;32m---> 30\u001b[1;33m \u001b[1;32mfrom\u001b[0m \u001b[0mexceptions\u001b[0m \u001b[1;32mimport\u001b[0m \u001b[0mPendingDeprecationWarning\u001b[0m\u001b[1;33m\u001b[0m\u001b[1;33m\u001b[0m\u001b[0m\n\u001b[0m\u001b[0;32m     31\u001b[0m \u001b[1;32mfrom\u001b[0m \u001b[0mwarnings\u001b[0m \u001b[1;32mimport\u001b[0m \u001b[0mwarn\u001b[0m\u001b[1;33m\u001b[0m\u001b[1;33m\u001b[0m\u001b[0m\n\u001b[0;32m     32\u001b[0m \u001b[1;33m\u001b[0m\u001b[0m\n",
      "\u001b[1;31mModuleNotFoundError\u001b[0m: No module named 'exceptions'"
     ]
    }
   ],
   "source": [
    "\"\"\"\n",
    "读取Word文件\n",
    "\"\"\"\n",
    "\n",
    "from docx import Document\n",
    "\n",
    "doc = Document('./res/用函数还是用复杂的表达式.docx')\n",
    "print(len(doc.paragraphs))\n",
    "print(doc.paragraphs[0].text)\n",
    "# print(doc.paragraphs[1].runs[0].text)\n",
    "\n",
    "content = []\n",
    "for para in doc.paragraphs:\n",
    "    content.append(para.text)\n",
    "print(''.join(content))"
   ]
  }
 ],
 "metadata": {
  "kernelspec": {
   "display_name": "Python 3",
   "language": "python",
   "name": "python3"
  },
  "language_info": {
   "codemirror_mode": {
    "name": "ipython",
    "version": 3
   },
   "file_extension": ".py",
   "mimetype": "text/x-python",
   "name": "python",
   "nbconvert_exporter": "python",
   "pygments_lexer": "ipython3",
   "version": "3.7.3"
  }
 },
 "nbformat": 4,
 "nbformat_minor": 2
}
