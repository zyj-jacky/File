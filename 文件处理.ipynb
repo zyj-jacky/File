{
 "cells": [
  {
   "cell_type": "code",
   "execution_count": 1,
   "metadata": {
    "collapsed": true
   },
   "outputs": [
    {
     "name": "stdout",
     "output_type": "stream",
     "text": [
      "我如果爱你\n",
      "绝不学攀援的凌霄花\n",
      "借你的高枝炫耀自己\n",
      "\n",
      "我如果爱你\n",
      "绝不学痴情的鸟儿\n",
      "为绿荫重复单调的歌曲\n",
      "\n",
      "也不止像泉源\n",
      "常年送来清凉的慰藉\n",
      "也不止像险峰\n",
      "增加你的高度 衬托你的威仪\n",
      "甚至日光 甚至春雨\n",
      "不 这些都还不够\n",
      "我必须是你近旁的一株木棉\n",
      "作为树的形象和你站在一起\n",
      "根 紧握在地下\n",
      "叶 相触在云里\n",
      "每一阵风过\n",
      "我们都互相致意\n",
      "但没有人 听懂我们的言语\n",
      "你有你的铜枝铁干\n",
      "像刀 像剑 也像戟；\n",
      "我有我红硕的花朵\n",
      "像沉重的叹息 又像英勇的火炬\n",
      "我们分担寒潮、风雷、霹雳\n",
      "我们共享雾霭、流岚、虹霓\n",
      "仿佛永远分离 却又终身相依\n",
      "这才是伟大的爱情\n",
      "坚贞就在这里\n",
      "爱 不仅爱你伟岸的身躯\n",
      "也爱你坚持的位置 足下的土地\n"
     ]
    }
   ],
   "source": [
    "def main():\n",
    "    f = open('致橡树.txt', 'r', encoding='utf-8')\n",
    "    print(f.read())\n",
    "    f.close()\n",
    "\n",
    "\n",
    "if __name__ == '__main__':\n",
    "    main()"
   ]
  },
  {
   "cell_type": "code",
   "execution_count": 4,
   "metadata": {
    "collapsed": true
   },
   "outputs": [
    {
     "name": "stdout",
     "output_type": "stream",
     "text": [
      "我如果爱你\n",
      "绝不学攀援的凌霄花\n",
      "借你的高枝炫耀自己\n",
      "\n",
      "我如果爱你\n",
      "绝不学痴情的鸟儿\n",
      "为绿荫重复单调的歌曲\n",
      "\n",
      "也不止像泉源\n",
      "常年送来清凉的慰藉\n",
      "也不止像险峰\n",
      "增加你的高度 衬托你的威仪\n",
      "甚至日光 甚至春雨\n",
      "不 这些都还不够\n",
      "我必须是你近旁的一株木棉\n",
      "作为树的形象和你站在一起\n",
      "根 紧握在地下\n",
      "叶 相触在云里\n",
      "每一阵风过\n",
      "我们都互相致意\n",
      "但没有人 听懂我们的言语\n",
      "你有你的铜枝铁干\n",
      "像刀 像剑 也像戟；\n",
      "我有我红硕的花朵\n",
      "像沉重的叹息 又像英勇的火炬\n",
      "我们分担寒潮、风雷、霹雳\n",
      "我们共享雾霭、流岚、虹霓\n",
      "仿佛永远分离 却又终身相依\n",
      "这才是伟大的爱情\n",
      "坚贞就在这里\n",
      "爱 不仅爱你伟岸的身躯\n",
      "也爱你坚持的位置 足下的土地\n"
     ]
    }
   ],
   "source": [
    "def main():\n",
    "    f = None\n",
    "    try:\n",
    "        f = open('致橡树.txt', 'r', encoding='utf-8')\n",
    "        print(f.read())\n",
    "    except FileNotFoundError:\n",
    "        print('无法打开指定的文件!')\n",
    "    except LookupError:\n",
    "        print('指定了未知的编码!')\n",
    "    except UnicodeDecodeError:\n",
    "        print('读取文件时解码错误!')\n",
    "    finally:\n",
    "        if f:\n",
    "            f.close()\n",
    "\n",
    "\n",
    "if __name__ == '__main__':\n",
    "    main()"
   ]
  },
  {
   "cell_type": "code",
   "execution_count": 5,
   "metadata": {
    "collapsed": true
   },
   "outputs": [
    {
     "name": "stdout",
     "output_type": "stream",
     "text": [
      "我如果爱你\n",
      "绝不学攀援的凌霄花\n",
      "借你的高枝炫耀自己\n",
      "\n",
      "我如果爱你\n",
      "绝不学痴情的鸟儿\n",
      "为绿荫重复单调的歌曲\n",
      "\n",
      "也不止像泉源\n",
      "常年送来清凉的慰藉\n",
      "也不止像险峰\n",
      "增加你的高度 衬托你的威仪\n",
      "甚至日光 甚至春雨\n",
      "不 这些都还不够\n",
      "我必须是你近旁的一株木棉\n",
      "作为树的形象和你站在一起\n",
      "根 紧握在地下\n",
      "叶 相触在云里\n",
      "每一阵风过\n",
      "我们都互相致意\n",
      "但没有人 听懂我们的言语\n",
      "你有你的铜枝铁干\n",
      "像刀 像剑 也像戟；\n",
      "我有我红硕的花朵\n",
      "像沉重的叹息 又像英勇的火炬\n",
      "我们分担寒潮、风雷、霹雳\n",
      "我们共享雾霭、流岚、虹霓\n",
      "仿佛永远分离 却又终身相依\n",
      "这才是伟大的爱情\n",
      "坚贞就在这里\n",
      "爱 不仅爱你伟岸的身躯\n",
      "也爱你坚持的位置 足下的土地\n"
     ]
    }
   ],
   "source": [
    "def main():\n",
    "    try:\n",
    "        with open('致橡树.txt', 'r', encoding='utf-8') as f:\n",
    "            print(f.read())\n",
    "    except FileNotFoundError:\n",
    "        print('无法打开指定的文件!')\n",
    "    except LookupError:\n",
    "        print('指定了未知的编码!')\n",
    "    except UnicodeDecodeError:\n",
    "        print('读取文件时解码错误!')\n",
    "\n",
    "\n",
    "if __name__ == '__main__':\n",
    "    main()"
   ]
  },
  {
   "cell_type": "code",
   "execution_count": 16,
   "metadata": {
    "collapsed": true
   },
   "outputs": [
    {
     "name": "stdout",
     "output_type": "stream",
     "text": [
      "我如果爱你\n",
      "绝不学攀援的凌霄花\n",
      "借你的高枝炫耀自己\n",
      "\n",
      "我如果爱你\n",
      "绝不学痴情的鸟儿\n",
      "为绿荫重复单调的歌曲\n",
      "\n",
      "也不止像泉源\n",
      "常年送来清凉的慰藉\n",
      "也不止像险峰\n",
      "增加你的高度 衬托你的威仪\n",
      "甚至日光 甚至春雨\n",
      "不 这些都还不够\n",
      "我必须是你近旁的一株木棉\n",
      "作为树的形象和你站在一起\n",
      "根 紧握在地下\n",
      "叶 相触在云里\n",
      "每一阵风过\n",
      "我们都互相致意\n",
      "但没有人 听懂我们的言语\n",
      "你有你的铜枝铁干\n",
      "像刀 像剑 也像戟；\n",
      "我有我红硕的花朵\n",
      "像沉重的叹息 又像英勇的火炬\n",
      "我们分担寒潮、风雷、霹雳\n",
      "我们共享雾霭、流岚、虹霓\n",
      "仿佛永远分离 却又终身相依\n",
      "这才是伟大的爱情\n",
      "坚贞就在这里\n",
      "爱 不仅爱你伟岸的身躯\n",
      "也爱你坚持的位置 足下的土地\n",
      "我如果爱你\n",
      "绝不学攀援的凌霄花\n",
      "借你的高枝炫耀自己\n",
      "\n",
      "我如果爱你\n",
      "绝不学痴情的鸟儿\n",
      "为绿荫重复单调的歌曲\n",
      "\n",
      "也不止像泉源\n",
      "常年送来清凉的慰藉\n",
      "也不止像险峰\n",
      "增加你的高度 衬托你的威仪\n",
      "甚至日光 甚至春雨\n",
      "不 这些都还不够\n",
      "我必须是你近旁的一株木棉\n",
      "作为树的形象和你站在一起\n",
      "根 紧握在地下\n",
      "叶 相触在云里\n",
      "每一阵风过\n",
      "我们都互相致意\n",
      "但没有人 听懂我们的言语\n",
      "你有你的铜枝铁干\n",
      "像刀 像剑 也像戟；\n",
      "我有我红硕的花朵\n",
      "像沉重的叹息 又像英勇的火炬\n",
      "我们分担寒潮、风雷、霹雳\n",
      "我们共享雾霭、流岚、虹霓\n",
      "仿佛永远分离 却又终身相依\n",
      "这才是伟大的爱情\n",
      "坚贞就在这里\n",
      "爱 不仅爱你伟岸的身躯\n",
      "也爱你坚持的位置 足下的土地\n",
      "['我如果爱你\\n', '绝不学攀援的凌霄花\\n', '借你的高枝炫耀自己\\n', '\\n', '我如果爱你\\n', '绝不学痴情的鸟儿\\n', '为绿荫重复单调的歌曲\\n', '\\n', '也不止像泉源\\n', '常年送来清凉的慰藉\\n', '也不止像险峰\\n', '增加你的高度 衬托你的威仪\\n', '甚至日光 甚至春雨\\n', '不 这些都还不够\\n', '我必须是你近旁的一株木棉\\n', '作为树的形象和你站在一起\\n', '根 紧握在地下\\n', '叶 相触在云里\\n', '每一阵风过\\n', '我们都互相致意\\n', '但没有人 听懂我们的言语\\n', '你有你的铜枝铁干\\n', '像刀 像剑 也像戟；\\n', '我有我红硕的花朵\\n', '像沉重的叹息 又像英勇的火炬\\n', '我们分担寒潮、风雷、霹雳\\n', '我们共享雾霭、流岚、虹霓\\n', '仿佛永远分离 却又终身相依\\n', '这才是伟大的爱情\\n', '坚贞就在这里\\n', '爱 不仅爱你伟岸的身躯\\n', '也爱你坚持的位置 足下的土地']\n"
     ]
    }
   ],
   "source": [
    "import time\n",
    "\n",
    "\n",
    "def main():\n",
    "    # 一次性读取整个文件内容\n",
    "    with open('致橡树.txt', 'r', encoding='utf-8') as f:\n",
    "        print(f.read())\n",
    "\n",
    "    # 通过for-in循环逐行读取\n",
    "    with open('致橡树.txt', 'r', encoding='utf-8') as f:\n",
    "        for line in f:\n",
    "            print(line, end='')\n",
    "            time.sleep(0.5)\n",
    "    print()\n",
    "\n",
    "    # 读取文件按行读取到列表中\n",
    "    with open('致橡树.txt', encoding='utf-8') as f:\n",
    "        lines = f.readlines()\n",
    "    print(lines)\n",
    "    \n",
    "\n",
    "if __name__ == '__main__':\n",
    "    main()"
   ]
  },
  {
   "cell_type": "code",
   "execution_count": 28,
   "metadata": {},
   "outputs": [
    {
     "name": "stdout",
     "output_type": "stream",
     "text": [
      "请输入你的生日: 19911006\n"
     ]
    }
   ],
   "source": [
    "\"\"\"\n",
    "读取圆周率文件判断其中是否包含自己的生日\n",
    "\"\"\"\n",
    "\n",
    "birth = input('请输入你的生日: ')\n",
    "with open('pi_million_digits.txt') as f:\n",
    "    lines = f.readlines()\n",
    "    pi_string = ''\n",
    "    for line in lines:\n",
    "        pi_string += line.strip()\n",
    "        \n",
    "    if birth in pi_string:\n",
    "        print('Bingo!!!')"
   ]
  },
  {
   "cell_type": "code",
   "execution_count": 15,
   "metadata": {},
   "outputs": [
    {
     "name": "stdout",
     "output_type": "stream",
     "text": [
      "写入完成!\n"
     ]
    }
   ],
   "source": [
    "\"\"\"\n",
    "写文本文件\n",
    "将100以内的素数写入到文件中\n",
    "\"\"\"\n",
    "\n",
    "from math import sqrt\n",
    "\n",
    "\n",
    "def is_prime(n):\n",
    "    for factor in range(2, int(sqrt(n)) + 1):\n",
    "        if n % factor == 0:\n",
    "            return False\n",
    "    return True\n",
    "\n",
    "\n",
    "# 试一试有什么不一样\n",
    "# with open('prime.txt', 'a') as f:\n",
    "with open('prime.txt', 'w') as f:\n",
    "    for num in range(2, 100):\n",
    "        if is_prime(num):\n",
    "            f.write(str(num) + '\\n')\n",
    "print('写入完成!')"
   ]
  },
  {
   "cell_type": "markdown",
   "metadata": {},
   "source": [
    "# 1-99之间的素数保存在a.txt中，100-999之间的素数保存在b.txt中，1000-9999之间的素数保存在c.txt中"
   ]
  },
  {
   "cell_type": "code",
   "execution_count": 11,
   "metadata": {},
   "outputs": [
    {
     "name": "stdout",
     "output_type": "stream",
     "text": [
      "操作完成!\n"
     ]
    }
   ],
   "source": [
    "from math import sqrt\n",
    "\n",
    "\n",
    "def is_prime(n):\n",
    "    \"\"\"判断素数的函数\"\"\"\n",
    "    assert n > 0\n",
    "    for factor in range(2, int(sqrt(n)) + 1):\n",
    "        if n % factor == 0:\n",
    "            return False\n",
    "    return True if n != 1 else False\n",
    "\n",
    "\n",
    "def main():\n",
    "    filenames = ('a.txt', 'b.txt', 'c.txt')\n",
    "    fs_list = []\n",
    "    try:\n",
    "        for filename in filenames:\n",
    "            fs_list.append(open(filename, 'w', encoding='utf-8'))\n",
    "        for number in range(1, 10000):\n",
    "            if is_prime(number):\n",
    "                if number < 100:\n",
    "                    fs_list[0].write(str(number) + '\\n')\n",
    "                elif number < 1000:\n",
    "                    fs_list[1].write(str(number) + '\\n')\n",
    "                else:\n",
    "                    fs_list[2].write(str(number) + '\\n')\n",
    "    except IOError as ex:\n",
    "        print(ex)\n",
    "        print('写文件时发生错误!')\n",
    "    finally:\n",
    "        for fs in fs_list:\n",
    "            fs.close()\n",
    "    print('操作完成!')\n",
    "\n",
    "\n",
    "if __name__ == '__main__':\n",
    "    main()"
   ]
  },
  {
   "cell_type": "markdown",
   "metadata": {},
   "source": [
    "# 复制图片文件"
   ]
  },
  {
   "cell_type": "code",
   "execution_count": 13,
   "metadata": {},
   "outputs": [
    {
     "name": "stdout",
     "output_type": "stream",
     "text": [
      "<class 'bytes'>\n",
      "程序执行结束.\n"
     ]
    }
   ],
   "source": [
    "def main():\n",
    "    try:\n",
    "        with open('guido.jpg', 'rb') as fs1:\n",
    "            data = fs1.read()\n",
    "            print(type(data))  # <class 'bytes'>\n",
    "        with open('吉多.jpg', 'wb') as fs2:\n",
    "            fs2.write(data)\n",
    "    except FileNotFoundError as e:\n",
    "        print('指定的文件无法打开.')\n",
    "    except IOError as e:\n",
    "        print('读写文件时出现错误.')\n",
    "    print('程序执行结束.')\n",
    "\n",
    "\n",
    "if __name__ == '__main__':\n",
    "    main()"
   ]
  },
  {
   "cell_type": "code",
   "execution_count": 25,
   "metadata": {
    "collapsed": true
   },
   "outputs": [
    {
     "name": "stdout",
     "output_type": "stream",
     "text": [
      "字节数: 78169\n",
      "b'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'\n",
      "写入完成!\n"
     ]
    }
   ],
   "source": [
    "\"\"\"\n",
    "读写二进制文件\n",
    "\"\"\"\n",
    "import base64\n",
    "\n",
    "with open('mm.jpg', 'rb') as f:\n",
    "    data = f.read()\n",
    "    # print(type(data))\n",
    "    # print(data)\n",
    "    print('字节数:', len(data))\n",
    "    # 将图片处理成BASE-64编码\n",
    "    print(base64.b64encode(data))\n",
    "\n",
    "with open('girl.jpg', 'wb') as f:\n",
    "    f.write(data)\n",
    "print('写入完成!')\n"
   ]
  },
  {
   "cell_type": "markdown",
   "metadata": {},
   "source": [
    "# 将字典或列表以JSON格式保存到文件中"
   ]
  },
  {
   "cell_type": "code",
   "execution_count": 9,
   "metadata": {},
   "outputs": [
    {
     "name": "stdout",
     "output_type": "stream",
     "text": [
      "保存数据完成!\n"
     ]
    }
   ],
   "source": [
    "import json\n",
    "\n",
    "\n",
    "def main():\n",
    "    mydict = {\n",
    "        'name': '张跃杰',\n",
    "        'age': 38,\n",
    "        'qq': 957658,\n",
    "        'friends': ['王大锤', '白元芳'],\n",
    "        'cars': [\n",
    "            {'brand': 'BYD', 'max_speed': 180},\n",
    "            {'brand': 'Audi', 'max_speed': 280},\n",
    "            {'brand': 'Benz', 'max_speed': 320}\n",
    "        ]\n",
    "    }\n",
    "    try:\n",
    "        with open('data.json', 'w', encoding='utf-8') as fs:\n",
    "            json.dump(mydict, fs)\n",
    "    except IOError as e:\n",
    "        print(e)\n",
    "    print('保存数据完成!')\n",
    "\n",
    "\n",
    "if __name__ == '__main__':\n",
    "    main()"
   ]
  },
  {
   "cell_type": "markdown",
   "metadata": {},
   "source": [
    "# json的四个重要函数\n",
    "dump - 将Python对象按照JSON格式序列化到文件中\n",
    "\n",
    "dumps - 将Python对象处理成JSON格式的字符串\n",
    "\n",
    "load - 将文件中的JSON数据反序列化成对象\n",
    "\n",
    "loads - 将字符串的内容反序列化成Python对象"
   ]
  },
  {
   "cell_type": "code",
   "execution_count": 17,
   "metadata": {},
   "outputs": [
    {
     "name": "stdout",
     "output_type": "stream",
     "text": [
      "{'name': '张跃杰', 'age': 27, 'title': '叫兽'}\n",
      "<class 'dict'>\n",
      "张跃杰\n",
      "27\n",
      "<csv2.Teacher object at 0x000000BA78A855C0>\n",
      "张跃杰\n",
      "27\n",
      "叫兽\n"
     ]
    }
   ],
   "source": [
    "\"\"\"\n",
    "读取JSON数据\n",
    "\"\"\"\n",
    "\n",
    "import json\n",
    "import csv2\n",
    "\n",
    "json_str = '{\"name\": \"张跃杰\", \"age\": 27, \"title\": \"叫兽\"}'\n",
    "result = json.loads(json_str)\n",
    "print(result)\n",
    "print(type(result))\n",
    "print(result['name'])\n",
    "print(result['age'])\n",
    "\n",
    "# 把转换得到的字典作为关键字参数传入Teacher的构造器\n",
    "teacher = csv2.Teacher(**result)\n",
    "print(teacher)\n",
    "print(teacher.name)\n",
    "print(teacher.age)\n",
    "print(teacher.title)"
   ]
  },
  {
   "cell_type": "markdown",
   "metadata": {},
   "source": [
    "# 读取CSV文件"
   ]
  },
  {
   "cell_type": "code",
   "execution_count": 18,
   "metadata": {},
   "outputs": [
    {
     "name": "stdout",
     "output_type": "stream",
     "text": [
      "4/5/2014 13:34                Apples              73        \n",
      "4/5/2014 3:41                 Cherries            85        \n",
      "4/6/2014 12:46                Pears               14        \n",
      "4/8/2014 8:59                 Oranges             52        \n",
      "4/10/2014 2:07                Apples              152       \n",
      "4/10/2014 18:10               Bananas             23        \n",
      "4/10/2014 2:40                Strawberries        98        \n"
     ]
    }
   ],
   "source": [
    "import csv\n",
    "\n",
    "filename = 'example.csv'\n",
    "\n",
    "try:\n",
    "    with open(filename) as f:\n",
    "        reader = csv.reader(f)\n",
    "        data = list(reader)\n",
    "except FileNotFoundError:\n",
    "    print('无法打开文件:', filename)\n",
    "else:\n",
    "    for item in data:\n",
    "        print('%-30s%-20s%-10s' % (item[0], item[1], item[2]))"
   ]
  },
  {
   "cell_type": "markdown",
   "metadata": {},
   "source": [
    "# 写入CSV文件"
   ]
  },
  {
   "cell_type": "code",
   "execution_count": 23,
   "metadata": {},
   "outputs": [
    {
     "name": "stdout",
     "output_type": "stream",
     "text": [
      "保存数据完成!\n"
     ]
    }
   ],
   "source": [
    "import csv\n",
    "\n",
    "\n",
    "class Teacher(object):\n",
    "\n",
    "    def __init__(self, name, age, title):\n",
    "        self.__name = name\n",
    "        self.__age = age\n",
    "        self.__title = title\n",
    "        self.__index = -1\n",
    "\n",
    "    @property\n",
    "    def name(self):\n",
    "        return self.__name\n",
    "\n",
    "    @property\n",
    "    def age(self):\n",
    "        return self.__age\n",
    "\n",
    "    @property\n",
    "    def title(self):\n",
    "        return self.__title\n",
    "\n",
    "\n",
    "filename = 'teacher.csv'\n",
    "teachers = [Teacher('骆昊', 38, '叫兽'), Teacher('狄仁杰', 25, '砖家')]\n",
    "\n",
    "try:\n",
    "    with open(filename, 'w',encoding='utf-8') as f:\n",
    "        writer = csv.writer(f)\n",
    "        for teacher in teachers:\n",
    "            writer.writerow([teacher.name, teacher.age, teacher.title])\n",
    "except BaseException as e:\n",
    "    print('无法写入文件:', filename)\n",
    "else:\n",
    "    print('保存数据完成!')"
   ]
  },
  {
   "cell_type": "code",
   "execution_count": 19,
   "metadata": {},
   "outputs": [
    {
     "name": "stdout",
     "output_type": "stream",
     "text": [
      "{\"name\": \"\\u5f20\\u8dc3\\u6770\", \"age\": 25, \"title\": \"\\u8bb2\\u5e08\"}\n",
      "<class 'str'>\n",
      "[\"apple\", \"orange\", \"strawberry\", \"banana\", \"pitaya\"]\n",
      "<class 'str'>\n"
     ]
    }
   ],
   "source": [
    "\"\"\"\n",
    "写入JSON文件\n",
    "\"\"\"\n",
    "\n",
    "import json\n",
    "\n",
    "teacher_dict = {'name': '张跃杰', 'age': 25, 'title': '讲师'}\n",
    "json_str = json.dumps(teacher_dict)\n",
    "print(json_str)\n",
    "print(type(json_str))\n",
    "fruits_list = ['apple', 'orange', 'strawberry', 'banana', 'pitaya']\n",
    "json_str = json.dumps(fruits_list)\n",
    "print(json_str)\n",
    "print(type(json_str))\n"
   ]
  },
  {
   "cell_type": "markdown",
   "metadata": {},
   "source": [
    "# 其他"
   ]
  },
  {
   "cell_type": "code",
   "execution_count": 6,
   "metadata": {},
   "outputs": [
    {
     "name": "stdout",
     "output_type": "stream",
     "text": [
      "a = 6\n",
      "b = 4\n",
      "6 / 4 = 1.50\n"
     ]
    }
   ],
   "source": [
    "\"\"\"\n",
    "异常机制 - 处理程序在运行时可能发生的状态\n",
    "\"\"\"\n",
    "\n",
    "input_again = True\n",
    "while input_again:\n",
    "    try:\n",
    "        a = int(input('a = '))\n",
    "        b = int(input('b = '))\n",
    "        print('%d / %d = %.2f' % (a, b, a / b))\n",
    "        input_again = False\n",
    "    except ValueError:\n",
    "        print('请输入整数')\n",
    "    except ZeroDivisionError:\n",
    "        print('除数不能为0')\n",
    "# 处理异常让代码不因异常而崩溃是一方面\n",
    "# 更重要的是可以通过对异常的处理让代码从异常中恢复过来"
   ]
  },
  {
   "cell_type": "code",
   "execution_count": null,
   "metadata": {},
   "outputs": [],
   "source": [
    "\"\"\"\n",
    "异常机制 - 处理程序在运行时可能发生的状态\n",
    "\"\"\"\n",
    "\n",
    "input_again = True\n",
    "while input_again:\n",
    "    try:\n",
    "        a = int(input('a = '))\n",
    "        b = int(input('b = '))\n",
    "        print('%d / %d = %f' % (a, b, a / b))\n",
    "        input_again = False\n",
    "    except (ValueError, ZeroDivisionError) as msg:\n",
    "        print(msg)"
   ]
  },
  {
   "cell_type": "code",
   "execution_count": 20,
   "metadata": {},
   "outputs": [
    {
     "name": "stdout",
     "output_type": "stream",
     "text": [
      "请输入文件名: example.csv\n",
      "4/5/2014 13:34,Apples,73\n",
      "4/5/2014 3:41,Cherries,85\n",
      "4/6/2014 12:46,Pears,14\n",
      "4/8/2014 8:59,Oranges,52\n",
      "4/10/2014 2:07,Apples,152\n",
      "4/10/2014 18:10,Bananas,23\n",
      "4/10/2014 2:40,Strawberries,98\n",
      "不管发生什么我都会执行\n"
     ]
    }
   ],
   "source": [
    "\"\"\"\n",
    "异常机制 - 处理程序在运行时可能发生的状态\n",
    "\"\"\"\n",
    "\n",
    "import time\n",
    "import sys\n",
    "\n",
    "filename = input('请输入文件名: ')\n",
    "try:\n",
    "    with open(filename) as f:\n",
    "        lines = f.readlines()\n",
    "except FileNotFoundError as msg:\n",
    "    print('无法打开文件:', filename)\n",
    "    print(msg)\n",
    "except UnicodeDecodeError as msg:\n",
    "    print('非文本文件无法解码')\n",
    "    sys.exit()\n",
    "else:\n",
    "    for line in lines:\n",
    "        print(line.rstrip())\n",
    "        time.sleep(0.5)\n",
    "finally:\n",
    "    # 此处最适合做善后工作\n",
    "    print('不管发生什么我都会执行')"
   ]
  }
 ],
 "metadata": {
  "kernelspec": {
   "display_name": "Python 3",
   "language": "python",
   "name": "python3"
  },
  "language_info": {
   "codemirror_mode": {
    "name": "ipython",
    "version": 3
   },
   "file_extension": ".py",
   "mimetype": "text/x-python",
   "name": "python",
   "nbconvert_exporter": "python",
   "pygments_lexer": "ipython3",
   "version": "3.7.3"
  }
 },
 "nbformat": 4,
 "nbformat_minor": 2
}
